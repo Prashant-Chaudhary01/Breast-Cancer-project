{
 "cells": [
  {
   "cell_type": "markdown",
   "id": "8bb2ef66-b261-40c8-a072-1cf04996d402",
   "metadata": {},
   "source": [
    "### Importing the library "
   ]
  },
  {
   "cell_type": "code",
   "execution_count": null,
   "id": "5bc2a305-ed30-48b1-9a54-d7e4e998c16c",
   "metadata": {},
   "outputs": [],
   "source": [
    "import pandas as pd"
   ]
  },
  {
   "cell_type": "markdown",
   "id": "7098fa7d-a467-4a02-a49e-4479570480f1",
   "metadata": {},
   "source": [
    "### Importing the dataset"
   ]
  },
  {
   "cell_type": "markdown",
   "id": "e4c05a04-838c-4c6c-bfc6-29145a87c644",
   "metadata": {},
   "source": [
    "###### we don't need to do any preprocessing beside this as it already done"
   ]
  },
  {
   "cell_type": "code",
   "execution_count": null,
   "id": "4693c478-3d55-436b-81d4-acb180dd1b14",
   "metadata": {},
   "outputs": [],
   "source": [
    "dataset = pd.read_csv('breast_cancer.csv')\n",
    "X = dataset.iloc[:, 1:-1].values\n",
    "y = dataset.iloc[:, -1].values"
   ]
  },
  {
   "cell_type": "code",
   "execution_count": null,
   "id": "bc2e7cc7-90e3-4169-bb07-cba26cda626c",
   "metadata": {},
   "outputs": [],
   "source": [
    "dataset.head()"
   ]
  },
  {
   "cell_type": "code",
   "execution_count": null,
   "id": "df3d3285-b5e2-465b-a5e3-1d1ac6074fa6",
   "metadata": {},
   "outputs": [],
   "source": [
    "dataset.describe()"
   ]
  },
  {
   "cell_type": "code",
   "execution_count": null,
   "id": "bb6e8a5b-2f7b-448c-afc6-450343f188d8",
   "metadata": {},
   "outputs": [],
   "source": [
    "print(X)"
   ]
  },
  {
   "cell_type": "code",
   "execution_count": null,
   "id": "561b779c-7661-4e96-954d-d5934e0297f1",
   "metadata": {
    "scrolled": true
   },
   "outputs": [],
   "source": [
    "print(y)"
   ]
  },
  {
   "cell_type": "markdown",
   "id": "d0ba5091-df73-4c2b-a11f-9879556dfa6a",
   "metadata": {},
   "source": [
    "### Splitting the dataset into training and test set"
   ]
  },
  {
   "cell_type": "code",
   "execution_count": null,
   "id": "edcae311-7815-4fbc-ae2e-1f6376a60f67",
   "metadata": {},
   "outputs": [],
   "source": [
    "from sklearn.model_selection import train_test_split\n",
    "X_train, X_test, y_train, y_test = train_test_split(X, y , test_size = 0.2, random_state = 0)"
   ]
  },
  {
   "cell_type": "markdown",
   "id": "6aa5e0b8-83ad-4f1d-af71-cbff62a1f94f",
   "metadata": {},
   "source": [
    "### Training the logistic regression model on training set"
   ]
  },
  {
   "cell_type": "code",
   "execution_count": null,
   "id": "c8778481-81b8-45f9-b58c-04b4ea897303",
   "metadata": {},
   "outputs": [],
   "source": [
    "from sklearn.linear_model import LogisticRegression\n",
    "classifier = LogisticRegression(random_state = 0)\n",
    "classifier.fit(X_train, y_train)"
   ]
  },
  {
   "cell_type": "markdown",
   "id": "58205f95-83ab-44b8-b975-bddf052a3cba",
   "metadata": {},
   "source": [
    "### Predicting the Test set results"
   ]
  },
  {
   "cell_type": "code",
   "execution_count": null,
   "id": "9480926a-e696-4bda-9158-a485c663a3d0",
   "metadata": {},
   "outputs": [],
   "source": [
    "y_pred = classifier.predict(X_test)"
   ]
  },
  {
   "cell_type": "code",
   "execution_count": null,
   "id": "a5782d24-2fe3-4b9b-89ad-4967cac221df",
   "metadata": {},
   "outputs": [],
   "source": [
    "print(y_pred)"
   ]
  },
  {
   "cell_type": "markdown",
   "id": "15d84bdd-296c-4ca5-b795-ace36a5b5819",
   "metadata": {},
   "source": [
    "### Making the Confusion Matrix"
   ]
  },
  {
   "cell_type": "code",
   "execution_count": null,
   "id": "4e8c7cee-f4f6-4976-96ba-1f9cc8dc929a",
   "metadata": {},
   "outputs": [],
   "source": [
    "from sklearn.metrics import confusion_matrix\n",
    "cm = confusion_matrix(y_test, y_pred)\n",
    "print(cm)"
   ]
  },
  {
   "cell_type": "markdown",
   "id": "1219cf05-73e5-49dc-83bb-0b255ef9370d",
   "metadata": {},
   "source": [
    "### Computing the accuracy with k-Fold Cross Validation"
   ]
  },
  {
   "cell_type": "code",
   "execution_count": null,
   "id": "1edca556-14f2-4168-bfe4-8bb0a2f073fd",
   "metadata": {},
   "outputs": [],
   "source": [
    "from sklearn.model_selection import cross_val_score\n",
    "accuracies = cross_val_score(estimator = classifier, X = X_train, y = y_train, cv = 10)\n",
    "print(\"Accuracy: {:.2f}%\".format(accuracies.mean()*100))\n",
    "print(\"Standard Deviation: {:.2f}%\".format(accuracies.std()*100))"
   ]
  }
 ],
 "metadata": {
  "kernelspec": {
   "display_name": "Python 3 (ipykernel)",
   "language": "python",
   "name": "python3"
  },
  "language_info": {
   "codemirror_mode": {
    "name": "ipython",
    "version": 3
   },
   "file_extension": ".py",
   "mimetype": "text/x-python",
   "name": "python",
   "nbconvert_exporter": "python",
   "pygments_lexer": "ipython3",
   "version": "3.12.7"
  }
 },
 "nbformat": 4,
 "nbformat_minor": 5
}
